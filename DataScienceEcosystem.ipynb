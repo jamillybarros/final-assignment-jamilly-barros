{
 "cells": [
  {
   "cell_type": "markdown",
   "id": "46908719",
   "metadata": {},
   "source": [
    "# Data Science Tools and Ecosystem"
   ]
  },
  {
   "cell_type": "markdown",
   "id": "be8df8fd",
   "metadata": {},
   "source": [
    "In this notebook, Data Science Tools and Ecosystem are summarized.\n",
    "\n",
    "**Objectives:**\n",
    "\n",
    "- List popular languages for Data Science.\n",
    "- Introduce commonly used data science tools.\n",
    "- Perform arithmetic operations in Python.\n",
    "- Convert units of time (minutes to hours) using Python.\n",
    "- Format and structure Markdown content in Jupyter Notebook.\n"
   ]
  },
  {
   "cell_type": "markdown",
   "id": "4bc6f430",
   "metadata": {},
   "source": [
    "Some of the popular languages that Data Scientists use are:\n",
    "\n",
    "1. Python\n",
    "2. R\n",
    "3. SQL\n",
    "\n",
    "Some of the commonly used libraries used by Data Scientists include:\n",
    "\n",
    "1. NumPy\n",
    "2. pandas\n",
    "3. scikit-learn\n"
   ]
  },
  {
   "cell_type": "markdown",
   "id": "1e7a59e7",
   "metadata": {},
   "source": [
    "<style>\n",
    "table {\n",
    "    width: 100%; /* Defina a largura desejada em porcentagem */\n",
    "}\n",
    "</style>\n",
    "\n",
    "| Data Science Tools          |\n",
    "|:-----------------------------|\n",
    "| 1. Jupyter Notebook        |\n",
    "| 2. RStudio                 |\n",
    "| 3. Visual Studio Code (VS Code) |\n"
   ]
  },
  {
   "attachments": {},
   "cell_type": "markdown",
   "id": "79be55f6",
   "metadata": {},
   "source": [
    "### Below are a few examples of evaluating arithmetic expressions in Python\n",
    "\n"
   ]
  },
  {
   "cell_type": "code",
   "execution_count": 5,
   "id": "913e1639",
   "metadata": {},
   "outputs": [
    {
     "data": {
      "text/plain": [
       "17"
      ]
     },
     "execution_count": 5,
     "metadata": {},
     "output_type": "execute_result"
    }
   ],
   "source": [
    "# This is a simple arithmetic expression to multiply then add integers.\n",
    "result = (3 * 4) + 5\n",
    "result\n"
   ]
  },
  {
   "cell_type": "code",
   "execution_count": 6,
   "id": "20d9a349",
   "metadata": {},
   "outputs": [
    {
     "data": {
      "text/plain": [
       "3.3333333333333335"
      ]
     },
     "execution_count": 6,
     "metadata": {},
     "output_type": "execute_result"
    }
   ],
   "source": [
    "# This will convert 200 minutes to hours by dividing by 60.\n",
    "minutes = 200\n",
    "hours = minutes / 60\n",
    "hours\n"
   ]
  },
  {
   "cell_type": "markdown",
   "id": "2fb84497",
   "metadata": {},
   "source": [
    "## Author\n",
    "jamilly barros\n"
   ]
  },
  {
   "cell_type": "code",
   "execution_count": null,
   "id": "649d963f",
   "metadata": {},
   "outputs": [],
   "source": []
  }
 ],
 "metadata": {
  "kernelspec": {
   "display_name": "Python 3 (ipykernel)",
   "language": "python",
   "name": "python3"
  },
  "language_info": {
   "codemirror_mode": {
    "name": "ipython",
    "version": 3
   },
   "file_extension": ".py",
   "mimetype": "text/x-python",
   "name": "python",
   "nbconvert_exporter": "python",
   "pygments_lexer": "ipython3",
   "version": "3.11.5"
  }
 },
 "nbformat": 4,
 "nbformat_minor": 5
}
